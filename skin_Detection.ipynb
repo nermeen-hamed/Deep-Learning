{
 "cells": [
  {
   "cell_type": "code",
   "execution_count": 1,
   "id": "9f9b3b9a",
   "metadata": {
    "ExecuteTime": {
     "end_time": "2022-05-26T08:27:47.108088Z",
     "start_time": "2022-05-26T08:27:40.412001Z"
    }
   },
   "outputs": [],
   "source": [
    "import pandas as pd\n",
    "import numpy as np\n",
    "import matplotlib.pyplot as plt\n",
    "import seaborn as sns"
   ]
  },
  {
   "cell_type": "code",
   "execution_count": 2,
   "id": "88634bcc",
   "metadata": {
    "ExecuteTime": {
     "end_time": "2022-05-25T20:16:35.370361Z",
     "start_time": "2022-05-25T20:16:34.951731Z"
    }
   },
   "outputs": [],
   "source": [
    "df=pd.read_csv(\"E:/daata/HAM10000_metadata.csv\")"
   ]
  },
  {
   "cell_type": "code",
   "execution_count": 3,
   "id": "98cb7e21",
   "metadata": {
    "ExecuteTime": {
     "end_time": "2022-05-25T20:16:35.447574Z",
     "start_time": "2022-05-25T20:16:35.377990Z"
    }
   },
   "outputs": [
    {
     "data": {
      "text/html": [
       "<div>\n",
       "<style scoped>\n",
       "    .dataframe tbody tr th:only-of-type {\n",
       "        vertical-align: middle;\n",
       "    }\n",
       "\n",
       "    .dataframe tbody tr th {\n",
       "        vertical-align: top;\n",
       "    }\n",
       "\n",
       "    .dataframe thead th {\n",
       "        text-align: right;\n",
       "    }\n",
       "</style>\n",
       "<table border=\"1\" class=\"dataframe\">\n",
       "  <thead>\n",
       "    <tr style=\"text-align: right;\">\n",
       "      <th></th>\n",
       "      <th>lesion_id</th>\n",
       "      <th>image_id</th>\n",
       "      <th>dx</th>\n",
       "      <th>dx_type</th>\n",
       "      <th>age</th>\n",
       "      <th>sex</th>\n",
       "      <th>localization</th>\n",
       "    </tr>\n",
       "  </thead>\n",
       "  <tbody>\n",
       "    <tr>\n",
       "      <th>0</th>\n",
       "      <td>HAM_0000118</td>\n",
       "      <td>ISIC_0027419</td>\n",
       "      <td>bkl</td>\n",
       "      <td>histo</td>\n",
       "      <td>80.0</td>\n",
       "      <td>male</td>\n",
       "      <td>scalp</td>\n",
       "    </tr>\n",
       "    <tr>\n",
       "      <th>1</th>\n",
       "      <td>HAM_0000118</td>\n",
       "      <td>ISIC_0025030</td>\n",
       "      <td>bkl</td>\n",
       "      <td>histo</td>\n",
       "      <td>80.0</td>\n",
       "      <td>male</td>\n",
       "      <td>scalp</td>\n",
       "    </tr>\n",
       "    <tr>\n",
       "      <th>2</th>\n",
       "      <td>HAM_0002730</td>\n",
       "      <td>ISIC_0026769</td>\n",
       "      <td>bkl</td>\n",
       "      <td>histo</td>\n",
       "      <td>80.0</td>\n",
       "      <td>male</td>\n",
       "      <td>scalp</td>\n",
       "    </tr>\n",
       "    <tr>\n",
       "      <th>3</th>\n",
       "      <td>HAM_0002730</td>\n",
       "      <td>ISIC_0025661</td>\n",
       "      <td>bkl</td>\n",
       "      <td>histo</td>\n",
       "      <td>80.0</td>\n",
       "      <td>male</td>\n",
       "      <td>scalp</td>\n",
       "    </tr>\n",
       "    <tr>\n",
       "      <th>4</th>\n",
       "      <td>HAM_0001466</td>\n",
       "      <td>ISIC_0031633</td>\n",
       "      <td>bkl</td>\n",
       "      <td>histo</td>\n",
       "      <td>75.0</td>\n",
       "      <td>male</td>\n",
       "      <td>ear</td>\n",
       "    </tr>\n",
       "  </tbody>\n",
       "</table>\n",
       "</div>"
      ],
      "text/plain": [
       "     lesion_id      image_id   dx dx_type   age   sex localization\n",
       "0  HAM_0000118  ISIC_0027419  bkl   histo  80.0  male        scalp\n",
       "1  HAM_0000118  ISIC_0025030  bkl   histo  80.0  male        scalp\n",
       "2  HAM_0002730  ISIC_0026769  bkl   histo  80.0  male        scalp\n",
       "3  HAM_0002730  ISIC_0025661  bkl   histo  80.0  male        scalp\n",
       "4  HAM_0001466  ISIC_0031633  bkl   histo  75.0  male          ear"
      ]
     },
     "execution_count": 3,
     "metadata": {},
     "output_type": "execute_result"
    }
   ],
   "source": [
    "df.head()"
   ]
  },
  {
   "cell_type": "code",
   "execution_count": 4,
   "id": "d42fa2a4",
   "metadata": {
    "ExecuteTime": {
     "end_time": "2022-05-25T20:16:35.481056Z",
     "start_time": "2022-05-25T20:16:35.459426Z"
    }
   },
   "outputs": [],
   "source": [
    "data=df"
   ]
  },
  {
   "cell_type": "code",
   "execution_count": 5,
   "id": "b9553981",
   "metadata": {
    "ExecuteTime": {
     "end_time": "2022-05-25T20:16:35.500732Z",
     "start_time": "2022-05-25T20:16:35.483087Z"
    }
   },
   "outputs": [],
   "source": [
    "idx=data[data['sex']=='unknown'].index"
   ]
  },
  {
   "cell_type": "code",
   "execution_count": 6,
   "id": "a5251656",
   "metadata": {
    "ExecuteTime": {
     "end_time": "2022-05-25T20:16:35.525125Z",
     "start_time": "2022-05-25T20:16:35.504367Z"
    }
   },
   "outputs": [],
   "source": [
    "data.drop(idx,inplace=True)"
   ]
  },
  {
   "cell_type": "code",
   "execution_count": 7,
   "id": "3cf0b338",
   "metadata": {
    "ExecuteTime": {
     "end_time": "2022-05-25T20:16:35.540471Z",
     "start_time": "2022-05-25T20:16:35.531005Z"
    }
   },
   "outputs": [],
   "source": [
    "idx=data[data['localization']=='unknown'].index"
   ]
  },
  {
   "cell_type": "code",
   "execution_count": 8,
   "id": "75dc5c4b",
   "metadata": {
    "ExecuteTime": {
     "end_time": "2022-05-25T20:16:35.555838Z",
     "start_time": "2022-05-25T20:16:35.545316Z"
    }
   },
   "outputs": [],
   "source": [
    "data.drop(idx,inplace=True)"
   ]
  },
  {
   "cell_type": "code",
   "execution_count": 9,
   "id": "d1cf0784",
   "metadata": {
    "ExecuteTime": {
     "end_time": "2022-05-25T20:16:35.571266Z",
     "start_time": "2022-05-25T20:16:35.561102Z"
    }
   },
   "outputs": [
    {
     "data": {
      "text/plain": [
       "85.0"
      ]
     },
     "execution_count": 9,
     "metadata": {},
     "output_type": "execute_result"
    }
   ],
   "source": [
    "df.age.max()"
   ]
  },
  {
   "cell_type": "code",
   "execution_count": 10,
   "id": "d4d61de2",
   "metadata": {
    "ExecuteTime": {
     "end_time": "2022-05-25T20:16:35.600542Z",
     "start_time": "2022-05-25T20:16:35.574508Z"
    }
   },
   "outputs": [],
   "source": [
    "data.dropna(inplace=True)"
   ]
  },
  {
   "cell_type": "code",
   "execution_count": 11,
   "id": "d7a7ca9d",
   "metadata": {
    "ExecuteTime": {
     "end_time": "2022-05-25T20:16:35.637356Z",
     "start_time": "2022-05-25T20:16:35.604765Z"
    }
   },
   "outputs": [
    {
     "data": {
      "text/plain": [
       "lesion_id       0\n",
       "image_id        0\n",
       "dx              0\n",
       "dx_type         0\n",
       "age             0\n",
       "sex             0\n",
       "localization    0\n",
       "dtype: int64"
      ]
     },
     "execution_count": 11,
     "metadata": {},
     "output_type": "execute_result"
    }
   ],
   "source": [
    "data.isnull().sum()"
   ]
  },
  {
   "cell_type": "code",
   "execution_count": 12,
   "id": "3b68ed59",
   "metadata": {
    "ExecuteTime": {
     "end_time": "2022-05-25T20:16:35.661257Z",
     "start_time": "2022-05-25T20:16:35.639352Z"
    }
   },
   "outputs": [],
   "source": [
    "df.drop(df.age.idxmin(),inplace=True)"
   ]
  },
  {
   "cell_type": "code",
   "execution_count": 13,
   "id": "a04beccd",
   "metadata": {
    "ExecuteTime": {
     "end_time": "2022-05-25T20:16:35.692594Z",
     "start_time": "2022-05-25T20:16:35.671046Z"
    }
   },
   "outputs": [],
   "source": [
    "df.drop(data[data['age']==0.0].index,inplace=True)"
   ]
  },
  {
   "cell_type": "code",
   "execution_count": 14,
   "id": "c6e8605f",
   "metadata": {
    "ExecuteTime": {
     "end_time": "2022-05-25T20:16:35.707666Z",
     "start_time": "2022-05-25T20:16:35.697514Z"
    }
   },
   "outputs": [],
   "source": [
    "#df['age_bins'] = pd.cut(x=df['age'], bins=[5, 12, 19, 26,33,40,47,54,62,69,74,81,88])\n",
    "#data_with_groupby= data.groupby(['age_bins'])\n",
    "#ax = sns.catplot(x=\"age_bins\", y=\"localization\",data=data_with_groupby,kind=\"bar\")"
   ]
  },
  {
   "cell_type": "code",
   "execution_count": null,
   "id": "db383876",
   "metadata": {},
   "outputs": [],
   "source": []
  },
  {
   "cell_type": "code",
   "execution_count": null,
   "id": "a3787ae4",
   "metadata": {},
   "outputs": [],
   "source": []
  },
  {
   "cell_type": "code",
   "execution_count": 15,
   "id": "b743fdf6",
   "metadata": {
    "ExecuteTime": {
     "end_time": "2022-05-25T20:16:35.726667Z",
     "start_time": "2022-05-25T20:16:35.710894Z"
    }
   },
   "outputs": [
    {
     "data": {
      "text/plain": [
       "(9724, 7)"
      ]
     },
     "execution_count": 15,
     "metadata": {},
     "output_type": "execute_result"
    }
   ],
   "source": [
    "data.shape"
   ]
  },
  {
   "cell_type": "code",
   "execution_count": 16,
   "id": "94320758",
   "metadata": {
    "ExecuteTime": {
     "end_time": "2022-05-25T20:16:36.457248Z",
     "start_time": "2022-05-25T20:16:35.729586Z"
    }
   },
   "outputs": [
    {
     "data": {
      "text/plain": [
       "Text(0.5, 1.0, 'frq of each disease')"
      ]
     },
     "execution_count": 16,
     "metadata": {},
     "output_type": "execute_result"
    },
    {
     "data": {
      "image/png": "[encoded data removed]",
      "text/plain": [
       "<Figure size 432x288 with 1 Axes>"
      ]
     },
     "metadata": {
      "needs_background": "light"
     },
     "output_type": "display_data"
    }
   ],
   "source": [
    "sns.countplot(x = 'dx', data = df)\n",
    "#df.plot(x=\"dx\", kind=\"bar\")\n",
    "plt.xlabel('Disease type')\n",
    "plt.ylabel('frq')\n",
    "plt.title('frq of each disease')"
   ]
  },
  {
   "cell_type": "code",
   "execution_count": 17,
   "id": "0cfc2d1c",
   "metadata": {
    "ExecuteTime": {
     "end_time": "2022-05-25T20:16:36.968143Z",
     "start_time": "2022-05-25T20:16:36.461646Z"
    }
   },
   "outputs": [
    {
     "data": {
      "text/plain": [
       "Text(0.5, 1.0, 'age frq')"
      ]
     },
     "execution_count": 17,
     "metadata": {},
     "output_type": "execute_result"
    },
    {
     "data": {
      "image/png": "[encoded data removed]",
      "text/plain": [
       "<Figure size 432x288 with 1 Axes>"
      ]
     },
     "metadata": {
      "needs_background": "light"
     },
     "output_type": "display_data"
    }
   ],
   "source": [
    "plt.subplots()\n",
    "sns.histplot(df['age'])\n",
    "plt.title('age frq')"
   ]
  },
  {
   "cell_type": "code",
   "execution_count": 18,
   "id": "a7eded9c",
   "metadata": {
    "ExecuteTime": {
     "end_time": "2022-05-25T20:16:37.967684Z",
     "start_time": "2022-05-25T20:16:36.971452Z"
    }
   },
   "outputs": [
    {
     "data": {
      "image/png": "[encoded data removed]",
      "text/plain": [
       "<Figure size 360x360 with 1 Axes>"
      ]
     },
     "metadata": {
      "needs_background": "light"
     },
     "output_type": "display_data"
    }
   ],
   "source": [
    "ax = sns.catplot(x='dx', y=\"age\",data=df,kind=\"bar\")"
   ]
  },
  {
   "cell_type": "code",
   "execution_count": 19,
   "id": "6f8380d0",
   "metadata": {
    "ExecuteTime": {
     "end_time": "2022-05-25T20:16:39.797687Z",
     "start_time": "2022-05-25T20:16:37.971438Z"
    }
   },
   "outputs": [
    {
     "data": {
      "image/png": "[encoded data removed]",
      "text/plain": [
       "<Figure size 576x576 with 1 Axes>"
      ]
     },
     "metadata": {
      "needs_background": "light"
     },
     "output_type": "display_data"
    }
   ],
   "source": [
    "bar, ax = plt.subplots(figsize = (8, 8))\n",
    "sns.set_palette(\"pastel\")\n",
    "sns.barplot(x = 'dx',\n",
    "            y = 'age',\n",
    "            hue = 'sex',\n",
    "            data = data\n",
    "            )\n",
    "plt.show()"
   ]
  },
  {
   "cell_type": "code",
   "execution_count": null,
   "id": "96043ce0",
   "metadata": {
    "ExecuteTime": {
     "end_time": "2022-05-24T21:28:35.664577Z",
     "start_time": "2022-05-24T21:28:35.609657Z"
    }
   },
   "outputs": [],
   "source": []
  },
  {
   "cell_type": "code",
   "execution_count": 20,
   "id": "ccd1587b",
   "metadata": {
    "ExecuteTime": {
     "end_time": "2022-05-25T20:16:40.057763Z",
     "start_time": "2022-05-25T20:16:39.800776Z"
    }
   },
   "outputs": [
    {
     "data": {
      "image/png": "[encoded data removed]",
      "text/plain": [
       "<Figure size 576x576 with 1 Axes>"
      ]
     },
     "metadata": {},
     "output_type": "display_data"
    }
   ],
   "source": [
    "\n",
    "bar, ax = plt.subplots(figsize = (8, 8))\n",
    "plt.pie(data['sex'].value_counts(), labels = data['sex'].value_counts().index,autopct=\"%.1f%%\")\n",
    "plt.show()"
   ]
  },
  {
   "cell_type": "code",
   "execution_count": 21,
   "id": "a67f724e",
   "metadata": {
    "ExecuteTime": {
     "end_time": "2022-05-25T20:16:41.101104Z",
     "start_time": "2022-05-25T20:16:40.061057Z"
    }
   },
   "outputs": [
    {
     "data": {
      "text/plain": [
       "<AxesSubplot:xlabel='location', ylabel='count'>"
      ]
     },
     "execution_count": 21,
     "metadata": {},
     "output_type": "execute_result"
    },
    {
     "data": {
      "image/png": "[encoded data removed]",
      "text/plain": [
       "<Figure size 1008x864 with 1 Axes>"
      ]
     },
     "metadata": {
      "needs_background": "light"
     },
     "output_type": "display_data"
    }
   ],
   "source": [
    "value=data[['localization', 'sex']].value_counts().to_frame()\n",
    "value.reset_index(level=[1,0 ], inplace=True)\n",
    "temp = value.rename(columns = {'localization':'location', 0: 'count'})\n",
    "bar, ax = plt.subplots(figsize = (14, 12))\n",
    "sns.barplot(x = 'location',  y='count', hue = 'sex', data = temp)"
   ]
  },
  {
   "cell_type": "code",
   "execution_count": 22,
   "id": "5908ce4f",
   "metadata": {
    "ExecuteTime": {
     "end_time": "2022-05-25T20:16:41.607611Z",
     "start_time": "2022-05-25T20:16:41.105096Z"
    }
   },
   "outputs": [
    {
     "data": {
      "text/plain": [
       "Text(0.5, 1.0, 'localization frq')"
      ]
     },
     "execution_count": 22,
     "metadata": {},
     "output_type": "execute_result"
    },
    {
     "data": {
      "image/png": "[encoded data removed]",
      "text/plain": [
       "<Figure size 1440x864 with 1 Axes>"
      ]
     },
     "metadata": {
      "needs_background": "light"
     },
     "output_type": "display_data"
    }
   ],
   "source": [
    "bar, ax = plt.subplots(figsize = (20, 12))\n",
    "sns.histplot(data['localization'])\n",
    "plt.title('localization frq')"
   ]
  },
  {
   "cell_type": "code",
   "execution_count": 2,
   "id": "07035fa6",
   "metadata": {
    "ExecuteTime": {
     "end_time": "2022-05-25T22:15:39.017913Z",
     "start_time": "2022-05-25T22:15:31.081123Z"
    }
   },
   "outputs": [],
   "source": [
    "from tensorflow.keras.models import Sequential\n",
    "from tensorflow.keras.layers import Conv2D\n",
    "from tensorflow.keras.layers import MaxPool2D\n",
    "from tensorflow.keras.layers import Flatten\n",
    "from tensorflow.keras.layers import Dropout\n",
    "from tensorflow.keras.layers import Dense\n",
    "import tensorflow as tf"
   ]
  },
  {
   "cell_type": "code",
   "execution_count": 3,
   "id": "99d777c4",
   "metadata": {
    "ExecuteTime": {
     "end_time": "2022-05-25T22:15:41.384240Z",
     "start_time": "2022-05-25T22:15:39.019383Z"
    }
   },
   "outputs": [
    {
     "data": {
      "text/html": [
       "<div>\n",
       "<style scoped>\n",
       "    .dataframe tbody tr th:only-of-type {\n",
       "        vertical-align: middle;\n",
       "    }\n",
       "\n",
       "    .dataframe tbody tr th {\n",
       "        vertical-align: top;\n",
       "    }\n",
       "\n",
       "    .dataframe thead th {\n",
       "        text-align: right;\n",
       "    }\n",
       "</style>\n",
       "<table border=\"1\" class=\"dataframe\">\n",
       "  <thead>\n",
       "    <tr style=\"text-align: right;\">\n",
       "      <th></th>\n",
       "      <th>pixel0000</th>\n",
       "      <th>pixel0001</th>\n",
       "      <th>pixel0002</th>\n",
       "      <th>pixel0003</th>\n",
       "      <th>pixel0004</th>\n",
       "      <th>pixel0005</th>\n",
       "      <th>pixel0006</th>\n",
       "      <th>pixel0007</th>\n",
       "      <th>pixel0008</th>\n",
       "      <th>pixel0009</th>\n",
       "      <th>...</th>\n",
       "      <th>pixel2343</th>\n",
       "      <th>pixel2344</th>\n",
       "      <th>pixel2345</th>\n",
       "      <th>pixel2346</th>\n",
       "      <th>pixel2347</th>\n",
       "      <th>pixel2348</th>\n",
       "      <th>pixel2349</th>\n",
       "      <th>pixel2350</th>\n",
       "      <th>pixel2351</th>\n",
       "      <th>label</th>\n",
       "    </tr>\n",
       "  </thead>\n",
       "  <tbody>\n",
       "    <tr>\n",
       "      <th>0</th>\n",
       "      <td>192</td>\n",
       "      <td>153</td>\n",
       "      <td>193</td>\n",
       "      <td>195</td>\n",
       "      <td>155</td>\n",
       "      <td>192</td>\n",
       "      <td>197</td>\n",
       "      <td>154</td>\n",
       "      <td>185</td>\n",
       "      <td>202</td>\n",
       "      <td>...</td>\n",
       "      <td>173</td>\n",
       "      <td>124</td>\n",
       "      <td>138</td>\n",
       "      <td>183</td>\n",
       "      <td>147</td>\n",
       "      <td>166</td>\n",
       "      <td>185</td>\n",
       "      <td>154</td>\n",
       "      <td>177</td>\n",
       "      <td>2</td>\n",
       "    </tr>\n",
       "    <tr>\n",
       "      <th>1</th>\n",
       "      <td>25</td>\n",
       "      <td>14</td>\n",
       "      <td>30</td>\n",
       "      <td>68</td>\n",
       "      <td>48</td>\n",
       "      <td>75</td>\n",
       "      <td>123</td>\n",
       "      <td>93</td>\n",
       "      <td>126</td>\n",
       "      <td>158</td>\n",
       "      <td>...</td>\n",
       "      <td>60</td>\n",
       "      <td>39</td>\n",
       "      <td>55</td>\n",
       "      <td>25</td>\n",
       "      <td>14</td>\n",
       "      <td>28</td>\n",
       "      <td>25</td>\n",
       "      <td>14</td>\n",
       "      <td>27</td>\n",
       "      <td>2</td>\n",
       "    </tr>\n",
       "    <tr>\n",
       "      <th>2</th>\n",
       "      <td>192</td>\n",
       "      <td>138</td>\n",
       "      <td>153</td>\n",
       "      <td>200</td>\n",
       "      <td>145</td>\n",
       "      <td>163</td>\n",
       "      <td>201</td>\n",
       "      <td>142</td>\n",
       "      <td>160</td>\n",
       "      <td>206</td>\n",
       "      <td>...</td>\n",
       "      <td>167</td>\n",
       "      <td>129</td>\n",
       "      <td>143</td>\n",
       "      <td>159</td>\n",
       "      <td>124</td>\n",
       "      <td>142</td>\n",
       "      <td>136</td>\n",
       "      <td>104</td>\n",
       "      <td>117</td>\n",
       "      <td>2</td>\n",
       "    </tr>\n",
       "    <tr>\n",
       "      <th>3</th>\n",
       "      <td>38</td>\n",
       "      <td>19</td>\n",
       "      <td>30</td>\n",
       "      <td>95</td>\n",
       "      <td>59</td>\n",
       "      <td>72</td>\n",
       "      <td>143</td>\n",
       "      <td>103</td>\n",
       "      <td>119</td>\n",
       "      <td>171</td>\n",
       "      <td>...</td>\n",
       "      <td>44</td>\n",
       "      <td>26</td>\n",
       "      <td>36</td>\n",
       "      <td>25</td>\n",
       "      <td>12</td>\n",
       "      <td>17</td>\n",
       "      <td>25</td>\n",
       "      <td>12</td>\n",
       "      <td>15</td>\n",
       "      <td>2</td>\n",
       "    </tr>\n",
       "    <tr>\n",
       "      <th>4</th>\n",
       "      <td>158</td>\n",
       "      <td>113</td>\n",
       "      <td>139</td>\n",
       "      <td>194</td>\n",
       "      <td>144</td>\n",
       "      <td>174</td>\n",
       "      <td>215</td>\n",
       "      <td>162</td>\n",
       "      <td>191</td>\n",
       "      <td>225</td>\n",
       "      <td>...</td>\n",
       "      <td>209</td>\n",
       "      <td>166</td>\n",
       "      <td>185</td>\n",
       "      <td>172</td>\n",
       "      <td>135</td>\n",
       "      <td>149</td>\n",
       "      <td>109</td>\n",
       "      <td>78</td>\n",
       "      <td>92</td>\n",
       "      <td>2</td>\n",
       "    </tr>\n",
       "  </tbody>\n",
       "</table>\n",
       "<p>5 rows × 2353 columns</p>\n",
       "</div>"
      ],
      "text/plain": [
       "   pixel0000  pixel0001  pixel0002  pixel0003  pixel0004  pixel0005  \\\n",
       "0        192        153        193        195        155        192   \n",
       "1         25         14         30         68         48         75   \n",
       "2        192        138        153        200        145        163   \n",
       "3         38         19         30         95         59         72   \n",
       "4        158        113        139        194        144        174   \n",
       "\n",
       "   pixel0006  pixel0007  pixel0008  pixel0009  ...  pixel2343  pixel2344  \\\n",
       "0        197        154        185        202  ...        173        124   \n",
       "1        123         93        126        158  ...         60         39   \n",
       "2        201        142        160        206  ...        167        129   \n",
       "3        143        103        119        171  ...         44         26   \n",
       "4        215        162        191        225  ...        209        166   \n",
       "\n",
       "   pixel2345  pixel2346  pixel2347  pixel2348  pixel2349  pixel2350  \\\n",
       "0        138        183        147        166        185        154   \n",
       "1         55         25         14         28         25         14   \n",
       "2        143        159        124        142        136        104   \n",
       "3         36         25         12         17         25         12   \n",
       "4        185        172        135        149        109         78   \n",
       "\n",
       "   pixel2351  label  \n",
       "0        177      2  \n",
       "1         27      2  \n",
       "2        117      2  \n",
       "3         15      2  \n",
       "4         92      2  \n",
       "\n",
       "[5 rows x 2353 columns]"
      ]
     },
     "execution_count": 3,
     "metadata": {},
     "output_type": "execute_result"
    }
   ],
   "source": [
    "import pandas as pd\n",
    "data = pd.read_csv('E:/daata/hmnist_28_28_RGB.csv')\n",
    "data.head()"
   ]
  },
  {
   "cell_type": "code",
   "execution_count": 4,
   "id": "c1a92b8e",
   "metadata": {
    "ExecuteTime": {
     "end_time": "2022-05-25T22:15:41.460577Z",
     "start_time": "2022-05-25T22:15:41.387236Z"
    }
   },
   "outputs": [],
   "source": [
    "y = data['label']\n",
    "x = data.drop(columns = ['label'])"
   ]
  },
  {
   "cell_type": "code",
   "execution_count": 69,
   "id": "c11946a1",
   "metadata": {
    "ExecuteTime": {
     "end_time": "2022-05-25T20:57:50.383089Z",
     "start_time": "2022-05-25T20:57:50.356388Z"
    }
   },
   "outputs": [
    {
     "data": {
      "text/plain": [
       "4    6705\n",
       "6    1113\n",
       "2    1099\n",
       "1     514\n",
       "0     327\n",
       "5     142\n",
       "3     115\n",
       "Name: label, dtype: int64"
      ]
     },
     "execution_count": 69,
     "metadata": {},
     "output_type": "execute_result"
    }
   ],
   "source": [
    "y.value_counts()"
   ]
  },
  {
   "cell_type": "code",
   "execution_count": null,
   "id": "25ddea69",
   "metadata": {
    "ExecuteTime": {
     "end_time": "2022-05-24T22:07:37.376203Z",
     "start_time": "2022-05-24T22:07:37.323688Z"
    }
   },
   "outputs": [],
   "source": []
  },
  {
   "cell_type": "code",
   "execution_count": null,
   "id": "dbac4c54",
   "metadata": {
    "ExecuteTime": {
     "end_time": "2022-05-24T22:24:06.123391Z",
     "start_time": "2022-05-24T22:24:04.614933Z"
    }
   },
   "outputs": [],
   "source": []
  },
  {
   "cell_type": "code",
   "execution_count": 5,
   "id": "1dcc3f9d",
   "metadata": {
    "ExecuteTime": {
     "end_time": "2022-05-25T22:15:41.476500Z",
     "start_time": "2022-05-25T22:15:41.461540Z"
    }
   },
   "outputs": [
    {
     "data": {
      "text/plain": [
       "(10015, 2352)"
      ]
     },
     "execution_count": 5,
     "metadata": {},
     "output_type": "execute_result"
    }
   ],
   "source": [
    "x.shape"
   ]
  },
  {
   "cell_type": "code",
   "execution_count": null,
   "id": "c6cb9f9d",
   "metadata": {
    "ExecuteTime": {
     "end_time": "2022-05-24T21:44:54.401907Z",
     "start_time": "2022-05-24T21:44:54.309483Z"
    }
   },
   "outputs": [],
   "source": []
  },
  {
   "cell_type": "code",
   "execution_count": 6,
   "id": "5cfa2477",
   "metadata": {
    "ExecuteTime": {
     "end_time": "2022-05-25T22:15:46.453501Z",
     "start_time": "2022-05-25T22:15:41.477497Z"
    }
   },
   "outputs": [],
   "source": [
    "from imblearn.over_sampling import RandomOverSampler \n",
    "oversample = RandomOverSampler()\n",
    "x,y  = oversample.fit_resample(x,y)"
   ]
  },
  {
   "cell_type": "code",
   "execution_count": 8,
   "id": "ba5c7f7f",
   "metadata": {
    "ExecuteTime": {
     "end_time": "2022-05-25T22:15:49.197401Z",
     "start_time": "2022-05-25T22:15:48.835500Z"
    }
   },
   "outputs": [],
   "source": [
    "#x = np.array(x).reshape(-1,28,28,3)\n",
    "scaled = np.array(scaled).reshape(-1,28,28,3)"
   ]
  },
  {
   "cell_type": "code",
   "execution_count": 7,
   "id": "7c01e433",
   "metadata": {
    "ExecuteTime": {
     "end_time": "2022-05-25T22:15:48.831518Z",
     "start_time": "2022-05-25T22:15:46.455434Z"
    }
   },
   "outputs": [],
   "source": [
    "#x = (x-np.mean(x))/np.std(x)\n",
    "from sklearn.preprocessing import MinMaxScaler\n",
    "scaler = MinMaxScaler()\n",
    "scaled = scaler.fit_transform(x)\n"
   ]
  },
  {
   "cell_type": "code",
   "execution_count": 9,
   "id": "15860030",
   "metadata": {
    "ExecuteTime": {
     "end_time": "2022-05-25T22:15:49.213191Z",
     "start_time": "2022-05-25T22:15:49.201048Z"
    }
   },
   "outputs": [
    {
     "name": "stdout",
     "output_type": "stream",
     "text": [
      "(46935, 28, 28, 3)\n",
      "(46935,)\n"
     ]
    }
   ],
   "source": [
    "print(scaled.shape)\n",
    "print(y.shape)"
   ]
  },
  {
   "cell_type": "code",
   "execution_count": 16,
   "id": "532e3297",
   "metadata": {
    "ExecuteTime": {
     "end_time": "2022-05-25T23:26:00.512299Z",
     "start_time": "2022-05-25T23:25:56.445989Z"
    }
   },
   "outputs": [],
   "source": [
    "from sklearn.model_selection import train_test_split\n",
    "#X_train, X_test, y_train, y_test = train_test_split( x, y, test_size=0.2, random_state=1)\n",
    "X_train, X_test, y_train, y_test = train_test_split( scaled, y, test_size=0.2, random_state=1,shuffle=True)\n",
    "#X_train=X_train/255\n",
    "#X_test=X_test/255"
   ]
  },
  {
   "cell_type": "code",
   "execution_count": 17,
   "id": "f868af8f",
   "metadata": {
    "ExecuteTime": {
     "end_time": "2022-05-25T23:26:01.274893Z",
     "start_time": "2022-05-25T23:26:01.266883Z"
    }
   },
   "outputs": [
    {
     "name": "stdout",
     "output_type": "stream",
     "text": [
      "(37548, 28, 28, 3)\n",
      "(37548,)\n"
     ]
    }
   ],
   "source": [
    "print(X_train.shape)\n",
    "print(y_train.shape)"
   ]
  },
  {
   "cell_type": "code",
   "execution_count": null,
   "id": "db497608",
   "metadata": {
    "ExecuteTime": {
     "end_time": "2022-05-24T22:38:22.153574Z",
     "start_time": "2022-05-24T22:38:20.508342Z"
    }
   },
   "outputs": [],
   "source": []
  },
  {
   "cell_type": "code",
   "execution_count": 18,
   "id": "45eca5a8",
   "metadata": {
    "ExecuteTime": {
     "end_time": "2022-05-25T23:59:11.513049Z",
     "start_time": "2022-05-25T23:26:03.632648Z"
    }
   },
   "outputs": [
    {
     "name": "stdout",
     "output_type": "stream",
     "text": [
      "Epoch 1/40\n",
      "301/301 [==============================] - 60s 199ms/step - loss: 1.5334 - accuracy: 0.3736 - val_loss: 1.2407 - val_accuracy: 0.5194\n",
      "Epoch 2/40\n",
      "301/301 [==============================] - 53s 176ms/step - loss: 1.1764 - accuracy: 0.5431 - val_loss: 1.1487 - val_accuracy: 0.5549\n",
      "Epoch 3/40\n",
      "301/301 [==============================] - 54s 178ms/step - loss: 0.9929 - accuracy: 0.6215 - val_loss: 0.9221 - val_accuracy: 0.6381\n",
      "Epoch 4/40\n",
      "301/301 [==============================] - 52s 174ms/step - loss: 0.8149 - accuracy: 0.6947 - val_loss: 0.7414 - val_accuracy: 0.7153\n",
      "Epoch 5/40\n",
      "301/301 [==============================] - 47s 155ms/step - loss: 0.6760 - accuracy: 0.7481 - val_loss: 0.6465 - val_accuracy: 0.7523\n",
      "Epoch 6/40\n",
      "301/301 [==============================] - 46s 154ms/step - loss: 0.5925 - accuracy: 0.7811 - val_loss: 0.5761 - val_accuracy: 0.7808\n",
      "Epoch 7/40\n",
      "301/301 [==============================] - 47s 155ms/step - loss: 0.5156 - accuracy: 0.8081 - val_loss: 0.5250 - val_accuracy: 0.8052\n",
      "Epoch 8/40\n",
      "301/301 [==============================] - 46s 154ms/step - loss: 0.4571 - accuracy: 0.8303 - val_loss: 0.4806 - val_accuracy: 0.8220\n",
      "Epoch 9/40\n",
      "301/301 [==============================] - 47s 155ms/step - loss: 0.4070 - accuracy: 0.8485 - val_loss: 0.5636 - val_accuracy: 0.8144\n",
      "Epoch 10/40\n",
      "301/301 [==============================] - 46s 154ms/step - loss: 0.3678 - accuracy: 0.8628 - val_loss: 0.3890 - val_accuracy: 0.8581\n",
      "Epoch 11/40\n",
      "301/301 [==============================] - 47s 156ms/step - loss: 0.3192 - accuracy: 0.8821 - val_loss: 0.3544 - val_accuracy: 0.8747\n",
      "Epoch 12/40\n",
      "301/301 [==============================] - 46s 154ms/step - loss: 0.3129 - accuracy: 0.8847 - val_loss: 0.3863 - val_accuracy: 0.8598\n",
      "Epoch 13/40\n",
      "301/301 [==============================] - 47s 156ms/step - loss: 0.2984 - accuracy: 0.8905 - val_loss: 0.3185 - val_accuracy: 0.8815\n",
      "Epoch 14/40\n",
      "301/301 [==============================] - 47s 155ms/step - loss: 0.2629 - accuracy: 0.9039 - val_loss: 0.3245 - val_accuracy: 0.8836\n",
      "Epoch 15/40\n",
      "301/301 [==============================] - 47s 155ms/step - loss: 0.2503 - accuracy: 0.9077 - val_loss: 0.3202 - val_accuracy: 0.8750\n",
      "Epoch 16/40\n",
      "301/301 [==============================] - 46s 154ms/step - loss: 0.2267 - accuracy: 0.9168 - val_loss: 0.2493 - val_accuracy: 0.9181\n",
      "Epoch 17/40\n",
      "301/301 [==============================] - 47s 156ms/step - loss: 0.2021 - accuracy: 0.9271 - val_loss: 0.2646 - val_accuracy: 0.9076\n",
      "Epoch 18/40\n",
      "301/301 [==============================] - 47s 156ms/step - loss: 0.2086 - accuracy: 0.9234 - val_loss: 0.2805 - val_accuracy: 0.9016\n",
      "Epoch 19/40\n",
      "301/301 [==============================] - 46s 154ms/step - loss: 0.2073 - accuracy: 0.9229 - val_loss: 0.2500 - val_accuracy: 0.9194\n",
      "Epoch 20/40\n",
      "301/301 [==============================] - 46s 154ms/step - loss: 0.1877 - accuracy: 0.9305 - val_loss: 0.2857 - val_accuracy: 0.9021\n",
      "Epoch 21/40\n",
      "301/301 [==============================] - 46s 154ms/step - loss: 0.1614 - accuracy: 0.9417 - val_loss: 0.2294 - val_accuracy: 0.9289\n",
      "Epoch 22/40\n",
      "301/301 [==============================] - 46s 154ms/step - loss: 0.1558 - accuracy: 0.9441 - val_loss: 0.3185 - val_accuracy: 0.9004\n",
      "Epoch 23/40\n",
      "301/301 [==============================] - 47s 155ms/step - loss: 0.1778 - accuracy: 0.9350 - val_loss: 0.2120 - val_accuracy: 0.9305\n",
      "Epoch 24/40\n",
      "301/301 [==============================] - 50s 164ms/step - loss: 0.1379 - accuracy: 0.9503 - val_loss: 0.2530 - val_accuracy: 0.9216\n",
      "Epoch 25/40\n",
      "301/301 [==============================] - 50s 167ms/step - loss: 0.1387 - accuracy: 0.9506 - val_loss: 0.2178 - val_accuracy: 0.9375\n",
      "Epoch 26/40\n",
      "301/301 [==============================] - 53s 175ms/step - loss: 0.1568 - accuracy: 0.9427 - val_loss: 0.2497 - val_accuracy: 0.9128\n",
      "Epoch 27/40\n",
      "301/301 [==============================] - 52s 172ms/step - loss: 0.1461 - accuracy: 0.9474 - val_loss: 0.2480 - val_accuracy: 0.9214\n",
      "Epoch 28/40\n",
      "301/301 [==============================] - 48s 160ms/step - loss: 0.1319 - accuracy: 0.9521 - val_loss: 0.2432 - val_accuracy: 0.9314\n",
      "Epoch 29/40\n",
      "301/301 [==============================] - 47s 157ms/step - loss: 0.1316 - accuracy: 0.9529 - val_loss: 0.2720 - val_accuracy: 0.9197\n",
      "Epoch 30/40\n",
      "301/301 [==============================] - 49s 162ms/step - loss: 0.1603 - accuracy: 0.9457 - val_loss: 0.2027 - val_accuracy: 0.9399\n",
      "Epoch 31/40\n",
      "301/301 [==============================] - 50s 165ms/step - loss: 0.1291 - accuracy: 0.9551 - val_loss: 0.1975 - val_accuracy: 0.9385\n",
      "Epoch 32/40\n",
      "301/301 [==============================] - 50s 165ms/step - loss: 0.0960 - accuracy: 0.9666 - val_loss: 0.1782 - val_accuracy: 0.9507\n",
      "Epoch 33/40\n",
      "301/301 [==============================] - 48s 160ms/step - loss: 0.0952 - accuracy: 0.9663 - val_loss: 0.2265 - val_accuracy: 0.9305\n",
      "Epoch 34/40\n",
      "301/301 [==============================] - 53s 176ms/step - loss: 0.1271 - accuracy: 0.9557 - val_loss: 0.2178 - val_accuracy: 0.9310\n",
      "Epoch 35/40\n",
      "301/301 [==============================] - 55s 184ms/step - loss: 0.0867 - accuracy: 0.9684 - val_loss: 0.2458 - val_accuracy: 0.9301\n",
      "Epoch 36/40\n",
      "301/301 [==============================] - 57s 189ms/step - loss: 0.1144 - accuracy: 0.9594 - val_loss: 0.1951 - val_accuracy: 0.9493\n",
      "Epoch 37/40\n",
      "301/301 [==============================] - 56s 186ms/step - loss: 0.0890 - accuracy: 0.9689 - val_loss: 0.2303 - val_accuracy: 0.9423\n",
      "Epoch 38/40\n",
      "301/301 [==============================] - 56s 186ms/step - loss: 0.0762 - accuracy: 0.9726 - val_loss: 0.1931 - val_accuracy: 0.9501\n",
      "Epoch 39/40\n",
      "301/301 [==============================] - 55s 183ms/step - loss: 0.1318 - accuracy: 0.9548 - val_loss: 0.2315 - val_accuracy: 0.9354\n",
      "Epoch 40/40\n",
      "301/301 [==============================] - 55s 181ms/step - loss: 0.0857 - accuracy: 0.9702 - val_loss: 0.2192 - val_accuracy: 0.9383\n"
     ]
    },
    {
     "data": {
      "text/plain": [
       "<keras.callbacks.History at 0x1c4707ff130>"
      ]
     },
     "execution_count": 18,
     "metadata": {},
     "output_type": "execute_result"
    }
   ],
   "source": [
    "\n",
    "model=Sequential()\n",
    "\n",
    "model.add(Conv2D(64, kernel_size = (3,3), input_shape = (28, 28, 3), activation = 'relu'))\n",
    "model.add(Conv2D(32, kernel_size = (3,3), activation = 'relu'))\n",
    "model.add(MaxPool2D(pool_size = (2,2)))\n",
    "model.add(Conv2D(32, kernel_size = (3,3), activation = 'relu'))\n",
    "model.add(Conv2D(32, kernel_size = (3,3), activation = 'relu'))\n",
    "model.add(MaxPool2D(pool_size = (2,2)))\n",
    "model.add(Conv2D(32, kernel_size = (3,3), activation = 'relu'))\n",
    "model.add(MaxPool2D(pool_size = (2,2)))\n",
    "model.add(Flatten())\n",
    "model.add(Dense(64, activation='relu'))\n",
    "model.add(Dense(7, activation='softmax'))\n",
    "\n",
    "model.compile(loss='sparse_categorical_crossentropy',optimizer='adam',metrics=['accuracy'])\n",
    "\n",
    "checkpoint_filepath = 'best_weights.h'\n",
    "model_checkpoint_callback = tf.keras.callbacks.ModelCheckpoint(\n",
    "    filepath=checkpoint_filepath,\n",
    "    save_weights_only=True,\n",
    "    monitor='val_accuracy',\n",
    "    mode='max',\n",
    "    save_best_only=True)\n",
    "\n",
    "model.fit(X_train,y_train,validation_split=0.2,batch_size = 100,epochs = 40,callbacks=[model_checkpoint_callback])\n"
   ]
  },
  {
   "cell_type": "code",
   "execution_count": 19,
   "id": "fcb7dc38",
   "metadata": {
    "ExecuteTime": {
     "end_time": "2022-05-25T23:59:29.871784Z",
     "start_time": "2022-05-25T23:59:16.497349Z"
    }
   },
   "outputs": [
    {
     "name": "stdout",
     "output_type": "stream",
     "text": [
      "294/294 [==============================] - 2s 8ms/step - loss: 0.1710 - accuracy: 0.9528\n"
     ]
    }
   ],
   "source": [
    "model.load_weights(checkpoint_filepath)\n",
    "loss, acc = model.evaluate(X_test, y_test)"
   ]
  },
  {
   "cell_type": "code",
   "execution_count": null,
   "id": "dd9aa2c4",
   "metadata": {
    "ExecuteTime": {
     "end_time": "2022-05-25T21:51:29.974002Z",
     "start_time": "2022-05-25T21:51:29.963989Z"
    }
   },
   "outputs": [],
   "source": []
  },
  {
   "cell_type": "code",
   "execution_count": null,
   "id": "fc1c87f9",
   "metadata": {},
   "outputs": [],
   "source": []
  },
  {
   "cell_type": "code",
   "execution_count": null,
   "id": "4b3ffddb",
   "metadata": {},
   "outputs": [],
   "source": []
  },
  {
   "cell_type": "code",
   "execution_count": null,
   "id": "cf1562fe",
   "metadata": {},
   "outputs": [],
   "source": []
  },
  {
   "cell_type": "code",
   "execution_count": null,
   "id": "9997f5c7",
   "metadata": {
    "ExecuteTime": {
     "end_time": "2022-05-25T21:53:20.292609Z",
     "start_time": "2022-05-25T21:53:20.278646Z"
    }
   },
   "outputs": [],
   "source": []
  },
  {
   "cell_type": "code",
   "execution_count": null,
   "id": "ccf15dd8",
   "metadata": {},
   "outputs": [],
   "source": []
  },
  {
   "cell_type": "code",
   "execution_count": null,
   "id": "1d91b332",
   "metadata": {},
   "outputs": [],
   "source": []
  },
  {
   "cell_type": "code",
   "execution_count": null,
   "id": "4ef1565f",
   "metadata": {},
   "outputs": [],
   "source": []
  },
  {
   "cell_type": "code",
   "execution_count": null,
   "id": "518a6045",
   "metadata": {},
   "outputs": [],
   "source": []
  }
 ],
 "metadata": {
  "kernelspec": {
   "display_name": "Python 3 (ipykernel)",
   "language": "python",
   "name": "python3"
  },
  "language_info": {
   "codemirror_mode": {
    "name": "ipython",
    "version": 3
   },
   "file_extension": ".py",
   "mimetype": "text/x-python",
   "name": "python",
   "nbconvert_exporter": "python",
   "pygments_lexer": "ipython3",
   "version": "3.9.7"
  }
 },
 "nbformat": 4,
 "nbformat_minor": 5
}
